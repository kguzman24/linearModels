{
  "cells": [
    {
      "cell_type": "markdown",
      "id": "e0c7b14a-e5aa-4abc-b48b-b8a9d20dacac",
      "metadata": {
        "id": "e0c7b14a-e5aa-4abc-b48b-b8a9d20dacac"
      },
      "source": [
        "# Assignment: Linear Models\n",
        "## Do three questions.\n",
        "### `! git clone https://github.com/ds4e/linearModels`"
      ]
    },
    {
      "cell_type": "markdown",
      "id": "bf4826b0",
      "metadata": {
        "id": "bf4826b0"
      },
      "source": [
        "**Q1.** Please answer the following questions in your own words.\n",
        "\n",
        "1. What makes a model \"linear\"? \"Linear\" in what?\n",
        "2. How do you interpret the coefficient for a dummy/one-hot-encoded variable? (This is a trick question, and the trick involves how you handle the intercept of the model.)\n",
        "3. Can linear regression be used for classification? Explain why, or why not.\n",
        "4. What are signs that your linear model is over-fitting?\n",
        "5. Clearly explain multi-colinearity using the two-stage least squares technique.\n",
        "6. How can you incorporate nonlinear relationships between your target/response/dependent/outcome variable $y$ and your features/control/response/independent variables $x$ into your analysis?\n",
        "7. What is the interpretation of the intercept? A slope coefficient for a variable? The coefficient for a dummy/one-hot-encoded variable?"
      ]
    },
    {
      "cell_type": "markdown",
      "id": "44fbab01",
      "metadata": {},
      "source": [
        "1. A model is \"linear\" when it uses explanatory variables (x) to predict the outcome variable (y). This means that Y can be expressed as a linear combination of the explanatory variables; it's linear in coefficients.\n",
        "2. The coefficient for a dummy variable in dummy encoding with an intercept can be interpreted as a deviation from a chosen reference category. If the color purple is the reference category, the coefficient of beta_1 for a dummy variable of green would be the difference in Y between green and the reference category purple. The coefficients are basically deviations from reference categories. In one-hot encoding without an intercept, we create separate dummy variables for each category and drop the intercept to avoid perfect multicolinearity. This means that the coefficients represent the expected value of Y for that category, not a difference from reference category. If you are interpreting the coefficients, your decision of dropping the intercept or not matters. \n",
        "3. Linear regression can be used for classification because it weights the explanatory variables to predict the outcome variables but it should be used with caution. For example, predictions with linear regression may lead to predictions that are out of range because it assumes continuous output. There are better linear models that are better than others for classification. \n",
        "4. Some signs would include that the model itself seems too complicated with too many features. If we are using too many variables that exploit unique features of the training data, we may overfit out model. Another sign is if out model performs well with out training data but has a lot more error with our test data. This would mean that the model is too complex and is fitting to the training set too closely rather than general patterns.\n",
        "5. Multicollinearity occurs when two or more predictor variables are highly correlated. This means that they provide redundant information. This makes it difficult to differentiate the individual effect of each predictor on Y. In two stage least squares, the first stage consists of identifying variables that are correlated with the ones causing multicollinearity (these are endogenuous variables) but not correlated with the error term. You then regresss the endogenous variables to get predicted values for them. In stage two, you use the predicted values you got and use them as independent variables in your regression model. This will remove the multicollinearity.\n",
        "6. You can incorporate non linear relationships using neural networks since they are nests of linear models. You can also use more complex polynomial terms like squares, cubes, etc. You could also incorporate logs and exponential transformations.\n",
        "7. The interpretations of the intercept is the predicted value of Y when all the independent variables are 0. The slope coefficient for a variable is the change in the predicted value of Y for a unit increase of the X variable. The interpretation for a slope coefficient for a dummy variable represents the difference in y when the category that the dummy variable represents is present (coefficient of 1) or absent (coefficient of 0)."
      ]
    },
    {
      "cell_type": "markdown",
      "id": "25bf83c6-ff44-42d6-9b33-8be1b945860d",
      "metadata": {
        "id": "25bf83c6-ff44-42d6-9b33-8be1b945860d"
      },
      "source": [
        "**Q2.** Load `./data/Q1_clean.csv`. The data include\n",
        "\n",
        "- `Price` per night\n",
        "- `Review Scores Rating`: The average rating for the property\n",
        "- `Neighbourhood `: The bourough of NYC. Note the space, or rename the variable.\n",
        "- `Property Type`: The kind of dwelling\n",
        "- `Room Type`: The kind of space being rented\n",
        "\n",
        "1. Compute the average prices and scores by `Neighbourhood `; which bourough is the most expensive on average? Create a kernel density plot of price and log price, grouping by `Neighbourhood `.\n",
        "2. Regress price on `Neighbourhood ` by creating the appropriate dummy/one-hot-encoded variables, without an intercept in the linear model and using all the data. Compare the coefficients in the regression to the table from part 1. What pattern do you see? What are the coefficients in a regression of a continuous variable on one categorical variable?\n",
        "3. Repeat part 2, but leave an intercept in the linear model. How do you have to handle the creation of the dummies differently? What is the intercept? Interpret the coefficients. How can I get the coefficients in part 2 from these new coefficients?\n",
        "4. Split the sample 80/20 into a training and a test set. Run a regression of `Price` on `Review Scores Rating` and `Neighbourhood `. What is the $R^2$ and RMSE on the test set? What is the coefficient on `Review Scores Rating`? What is the most expensive kind of property you can rent?\n",
        "5. Split the sample 80/20 into a training and a test set. Run a regression of `Price` on `Review Scores Rating` and `Neighbourhood ` and `Property Type`. What is the $R^2$ and RMSE on the test set? What is the coefficient on `Review Scores Rating`? What is the most expensive kind of property you can rent?\n",
        "6. What does the coefficient on `Review Scores Rating` mean if it changes from part 4 to 5? Hint: Think about how multilple linear regression works.\n",
        "7. (Optional) We've included `Neighborhood ` and `Property Type` separately in the model. How do you interact them, so you can have \"A bedroom in Queens\" or \"A townhouse in Manhattan\". Split the sample 80/20 into a training and a test set and run a regression including that kind of \"property type X neighborhood\" dummy, plus `Review Scores Rating`. How does the slope coefficient for `Review Scores Rating`, the $R^2$, and the RMSE change? Do they increase significantly compares to part 5? Are the coefficients in this regression just the sum of the coefficients for `Neighbourhood ` and `Property Type` from 5? What is the most expensive kind of property you can rent?"
      ]
    },
    {
      "cell_type": "markdown",
      "id": "95f22300-0180-4ed2-be8f-ed56cf4cd36b",
      "metadata": {
        "id": "95f22300-0180-4ed2-be8f-ed56cf4cd36b"
      },
      "source": [
        "**Q3.** This question is a case study for linear models. The data are about car prices. In particular, they include:\n",
        "\n",
        "  - `Price`, `Color`, `Seating_Capacity`\n",
        "  - `Body_Type`: crossover, hatchback, muv, sedan, suv\n",
        "  - `Make`, `Make_Year`: The brand of car and year produced\n",
        "  - `Mileage_Run`: The number of miles on the odometer\n",
        "  - `Fuel_Type`: Diesel or gasoline/petrol\n",
        "  - `Transmission`, `Transmission_Type`:  speeds and automatic/manual\n",
        "\n",
        "  1. Load `cars_hw.csv`. These data were really dirty, and I've already cleaned them a significant amount in terms of missing values and other issues, but some issues remain (e.g. outliers, badly scaled variables that require a log or arcsinh transformation). Clean the data however you think is most appropriate.\n",
        "  2. Summarize the `Price` variable and create a kernel density plot. Use `.groupby()` and `.describe()` to summarize prices by brand (`Make`). Make a grouped kernel density plot by `Make`. Which car brands are the most expensive? What do prices look like in general?\n",
        "  3. Split the data into an 80% training set and a 20% testing set.\n",
        "  4. Make a model where you regress price on the numeric variables alone; what is the $R^2$ and `RMSE` on the training set and test set? Make a second model where, for the categorical variables, you regress price on a model comprised of one-hot encoded regressors/features alone (you can use `pd.get_dummies()`; be careful of the dummy variable trap); what is the $R^2$ and `RMSE` on the test set? Which model performs better on the test set? Make a third model that combines all the regressors from the previous two; what is the $R^2$ and `RMSE` on the test set? Does the joint model perform better or worse, and by home much?\n",
        "  5. Use the `PolynomialFeatures` function from `sklearn` to expand the set of numerical variables you're using in the regression. As you increase the degree of the expansion, how do the $R^2$ and `RMSE` change? At what point does $R^2$ go negative on the test set? For your best model with expanded features, what is the $R^2$ and `RMSE`? How does it compare to your best model from part 4?\n",
        "  6. For your best model so far, determine the predicted values for the test data and plot them against the true values. Do the predicted values and true values roughly line up along the diagonal, or not? Compute the residuals/errors for the test data and create a kernel density plot. Do the residuals look roughly bell-shaped around zero? Evaluate the strengths and weaknesses of your model."
      ]
    },
    {
      "cell_type": "markdown",
      "id": "aedcd486",
      "metadata": {},
      "source": [
        "**Q4.** This question refers to the `heart_hw.csv` data. It contains three variables:\n",
        "\n",
        "  - `y`: Whether the individual survived for three years, coded 0 for death and 1 for survival\n",
        "  - `age`: Patient's age\n",
        "  - `transplant`: `control` for not receiving a transplant and `treatment` for receiving a transplant\n",
        "\n",
        "Since a heart transplant is a dangerous operation and even people who successfully get heart transplants might suffer later complications, we want to look at whether a group of transplant recipients tends to survive longer than a comparison group who does not get the procedure.\n",
        "\n",
        "1. Compute (a) the proportion of people who survive in the control group who do not receive a transplant, and (b) the difference between the proportion of people who survive in the treatment group and the proportion of people who survive in the control group. In a randomized controlled trial, this is called the **average treatment effect**.\n",
        "2. Regress `y` on `transplant` using a linear model with a constant. How does the constant/intercept of the regression and the coefficient on transplant compare to your answers from part 1? Explain the relationship clearly.\n",
        "3. We'd like to include `age` in the regression, since it's reasonable to expect that older patients are less likely to survive an extensive surgery like a heart transplant. Regress `y` on a constant, transplant, and age. How does the intercept change?\n",
        "4. Build a more flexible model that allows for non-linear age effects and interactions between age and treatment. Use a train-test split to validate your model. Estimate your best model, predict the survival probability by age, and plot your results conditional on receiving a transplant and not. Describe what you see.\n",
        "5. Imagine someone suggests using these kinds of models to select who receives organ transplants; perhaps the CDC or NIH starts using a scoring algorithm to decide who is contacted about a potential organ. What are your concerns about how it is built and how it is deployed?"
      ]
    },
    {
      "cell_type": "markdown",
      "id": "97e443e6",
      "metadata": {},
      "source": [
        "#### 4.1"
      ]
    },
    {
      "cell_type": "code",
      "execution_count": 2,
      "id": "8ed9a0cb",
      "metadata": {},
      "outputs": [],
      "source": [
        "import numpy as np\n",
        "import matplotlib.pyplot as plt\n",
        "import pandas as pd\n",
        "import seaborn as sns"
      ]
    },
    {
      "cell_type": "code",
      "execution_count": 33,
      "id": "844a7c02",
      "metadata": {},
      "outputs": [
        {
          "data": {
            "text/plain": [
              "<bound method NDFrame.head of      Unnamed: 0  age transplant  y\n",
              "0             1   53    control  0\n",
              "1             2   43    control  0\n",
              "2             3   52    control  0\n",
              "3             4   52    control  0\n",
              "4             5   54    control  0\n",
              "..          ...  ...        ... ..\n",
              "98           99   30    control  1\n",
              "99          100   48  treatment  1\n",
              "100         101   40  treatment  1\n",
              "101         102   48  treatment  1\n",
              "102         103   33  treatment  1\n",
              "\n",
              "[103 rows x 4 columns]>"
            ]
          },
          "execution_count": 33,
          "metadata": {},
          "output_type": "execute_result"
        }
      ],
      "source": [
        "heart_data = pd.read_csv(\"data/heart_hw.csv\")\n",
        "heart_data.head"
      ]
    },
    {
      "cell_type": "code",
      "execution_count": 34,
      "id": "026fb739",
      "metadata": {},
      "outputs": [
        {
          "name": "stdout",
          "output_type": "stream",
          "text": [
            "Control group: 0.11764705882352941\n",
            "Treatment group: 0.34782608695652173\n",
            "fAverage treatment effect: 0.23017902813299232\n"
          ]
        }
      ],
      "source": [
        "control_group = heart_data[heart_data['transplant']=='control']\n",
        "treatment_group = heart_data[heart_data['transplant']=='treatment']\n",
        "\n",
        "#proportion of survivors in control\n",
        "control_survival = control_group['y'].mean()\n",
        "\n",
        "#proportion of survivors in treatment\n",
        "treatment_survival = treatment_group['y'].mean()\n",
        "\n",
        "average_treatment_effect = treatment_survival-control_survival\n",
        "\n",
        "print(f\"Control group: {control_survival}\")\n",
        "print(f\"Treatment group: {treatment_survival}\")\n",
        "print(f\"fAverage treatment effect: {average_treatment_effect}\")"
      ]
    },
    {
      "cell_type": "markdown",
      "id": "9345e8b5",
      "metadata": {},
      "source": [
        "#### 4.2 "
      ]
    },
    {
      "cell_type": "code",
      "execution_count": 40,
      "id": "32f58232",
      "metadata": {},
      "outputs": [],
      "source": [
        "\n",
        "def slr(x,y): \n",
        "    \"\"\" Single linear regression function. \"\"\"\n",
        "    x_bar = np.mean(x)\n",
        "    y_bar = np.mean(y)\n",
        "\n",
        "    denominator = np.inner(x - x_bar, x - x_bar)\n",
        "    if denominator == 0:\n",
        "        return {'b0': np.nan, 'b1': np.nan, 'y_hat': np.nan, 'residuals': np.nan}\n",
        "    \n",
        "    b1 = np.inner(x-x_bar,y-y_bar)/denominator\n",
        "    b0 = y_bar - b1*x_bar\n",
        "    y_hat = b0 + b1*x\n",
        "    residuals = y - y_hat\n",
        "    return({'b0':b0,'b1':b1,'y_hat':y_hat,'residuals':residuals})"
      ]
    },
    {
      "cell_type": "code",
      "execution_count": 36,
      "id": "4a38e8cf",
      "metadata": {},
      "outputs": [
        {
          "name": "stdout",
          "output_type": "stream",
          "text": [
            "Transplant coefficient:  0.23017902813299226\n",
            "Intercept:  0.11764705882352944\n"
          ]
        }
      ],
      "source": [
        "#print(heart_data['transplant'])\n",
        "heart_data = pd.read_csv(\"data/heart_hw.csv\")\n",
        "\n",
        "\n",
        "heart_data['transplant'] = heart_data['transplant'].apply(lambda x: 1 if x == 'treatment' else 0)\n",
        "\n",
        "\n",
        "y = heart_data['y']\n",
        "x1 = heart_data['transplant']\n",
        "#print(heart_data['transplant'])\n",
        "\n",
        "reg1_y = slr(x1,y) # Regress y on x1\n",
        "#print(reg1_y)\n",
        "transplant_coeff = reg1_y['b1'] #coefficient for tranplant\n",
        "\n",
        "intercept =  reg1_y['b0'] #intercept\n",
        "\n",
        "print('Transplant coefficient: ', transplant_coeff)\n",
        "print('Intercept: ', intercept)\n"
      ]
    },
    {
      "cell_type": "markdown",
      "id": "2c6494fe",
      "metadata": {},
      "source": [
        "In our linear regression model, the intercept is 0.7, which is the proportion of people who survive in the control group. The transplant coefficient represents the difference in survival probability between the treatment and control group. This number means that patients have a 1.18% higher survival probability than those who did not receive the transplant. In part 1, the rate of survival for the control group was 0.1176. For the transplant coefficient in part 1 was 0.2302 and was 0.2301 in the regression model. Both of these values are close, which means that the regression model is doing a good job at showing the true relationship between transplant and survival."
      ]
    },
    {
      "cell_type": "markdown",
      "id": "ac5ff8a6",
      "metadata": {},
      "source": [
        "#### 4.3"
      ]
    },
    {
      "cell_type": "code",
      "execution_count": 46,
      "id": "b5a53467",
      "metadata": {},
      "outputs": [
        {
          "name": "stdout",
          "output_type": "stream",
          "text": [
            "Age coefficient: -0.013607217160218645\n",
            "Transplant coefficient: 0.264701686503675\n",
            "Intercept:  0.6322211923403473 \n",
            "\n"
          ]
        }
      ],
      "source": [
        "heart_data = pd.read_csv(\"data/heart_hw.csv\")\n",
        "\n",
        "heart_data['transplant'] = heart_data['transplant'].apply(lambda x: 1 if x == 'treatment' else 0)\n",
        "\n",
        "\n",
        "y = heart_data['y']\n",
        "x1 = heart_data['transplant']\n",
        "x2 = heart_data['age']\n",
        "\n",
        "#get resid for y after regress on x1\n",
        "reg1_y = slr(x1,y) # Regress y on x1\n",
        "y_resid_x1 = reg1_y['residuals'] # Extract the residual for y\n",
        "\n",
        "#get resid for x2 after regressing on x1\n",
        "reg_x2_x1 = slr(x1, x2)\n",
        "x2_resid_x1 = reg_x2_x1['residuals']\n",
        "\n",
        "#regress to et age coeff\n",
        "reg_y_x2 = slr(x2_resid_x1, y_resid_x1)\n",
        "age_coeff = reg_y_x2['b1']\n",
        "print('Age coefficient:', age_coeff)\n",
        "\n",
        "#get resid for y after regres on x2\n",
        "reg_y_x2 = slr(x2, y)\n",
        "y_resid_x2 = reg_y_x2['residuals']\n",
        "\n",
        "#get regress for x1 after regress on x2\n",
        "reg_x1_x2 = slr(x2, x1)\n",
        "x1_resid_x2 = reg_x1_x2['residuals']\n",
        "\n",
        "#regress to get transplant coeff\n",
        "reg_y_x1 = slr(x1_resid_x2, y_resid_x2)\n",
        "transplant_coeff = reg_y_x1['b1']\n",
        "print('Transplant coefficient:', transplant_coeff)\n",
        "\n",
        "\n",
        "b0 = np.mean(y) - reg_y_x1['b1'] * np.mean(x1) - reg_y_x2['b1']*np.mean(x2)\n",
        "print('Intercept: ', b0, '\\n')\n"
      ]
    },
    {
      "cell_type": "markdown",
      "id": "97b611d7",
      "metadata": {},
      "source": [
        "The intercept changes to 0.632. This means that the baseline probabiliy of survival for the control group has decreased."
      ]
    },
    {
      "cell_type": "markdown",
      "id": "9ff5ab92",
      "metadata": {},
      "source": [
        "#### 4.4"
      ]
    },
    {
      "cell_type": "code",
      "execution_count": 50,
      "id": "69f6004f",
      "metadata": {},
      "outputs": [
        {
          "name": "stdout",
          "output_type": "stream",
          "text": [
            "Defaulting to user installation because normal site-packages is not writeable\n",
            "Collecting statsmodels\n",
            "  Downloading statsmodels-0.14.4-cp310-cp310-manylinux_2_17_x86_64.manylinux2014_x86_64.whl (10.8 MB)\n",
            "\u001b[2K     \u001b[90m━━━━━━━━━━━━━━━━━━━━━━━━━━━━━━━━━━━━━━━━\u001b[0m \u001b[32m10.8/10.8 MB\u001b[0m \u001b[31m26.8 MB/s\u001b[0m eta \u001b[36m0:00:00\u001b[0m00:01\u001b[0m00:01\u001b[0m\n",
            "\u001b[?25hRequirement already satisfied: packaging>=21.3 in /home/karenguzman/.local/lib/python3.10/site-packages (from statsmodels) (24.1)\n",
            "Requirement already satisfied: scipy!=1.9.2,>=1.8 in /home/karenguzman/.local/lib/python3.10/site-packages (from statsmodels) (1.14.1)\n",
            "Requirement already satisfied: numpy<3,>=1.22.3 in /home/karenguzman/.local/lib/python3.10/site-packages (from statsmodels) (2.0.2)\n",
            "Collecting patsy>=0.5.6\n",
            "  Downloading patsy-1.0.1-py2.py3-none-any.whl (232 kB)\n",
            "\u001b[2K     \u001b[90m━━━━━━━━━━━━━━━━━━━━━━━━━━━━━━━━━━━━━━\u001b[0m \u001b[32m232.9/232.9 KB\u001b[0m \u001b[31m13.5 MB/s\u001b[0m eta \u001b[36m0:00:00\u001b[0m\n",
            "\u001b[?25hRequirement already satisfied: pandas!=2.1.0,>=1.4 in /home/karenguzman/.local/lib/python3.10/site-packages (from statsmodels) (2.2.3)\n",
            "Requirement already satisfied: tzdata>=2022.7 in /home/karenguzman/.local/lib/python3.10/site-packages (from pandas!=2.1.0,>=1.4->statsmodels) (2024.2)\n",
            "Requirement already satisfied: pytz>=2020.1 in /home/karenguzman/.local/lib/python3.10/site-packages (from pandas!=2.1.0,>=1.4->statsmodels) (2024.2)\n",
            "Requirement already satisfied: python-dateutil>=2.8.2 in /home/karenguzman/.local/lib/python3.10/site-packages (from pandas!=2.1.0,>=1.4->statsmodels) (2.9.0.post0)\n",
            "Requirement already satisfied: six>=1.5 in /usr/lib/python3/dist-packages (from python-dateutil>=2.8.2->pandas!=2.1.0,>=1.4->statsmodels) (1.16.0)\n",
            "Installing collected packages: patsy, statsmodels\n",
            "Successfully installed patsy-1.0.1 statsmodels-0.14.4\n",
            "Note: you may need to restart the kernel to use updated packages.\n"
          ]
        }
      ],
      "source": [
        "%pip install statsmodels"
      ]
    },
    {
      "cell_type": "code",
      "execution_count": 59,
      "id": "71a3ace4",
      "metadata": {},
      "outputs": [
        {
          "name": "stdout",
          "output_type": "stream",
          "text": [
            "Optimization terminated successfully.\n",
            "         Current function value: 0.513893\n",
            "         Iterations 7\n",
            "                           Logit Regression Results                           \n",
            "==============================================================================\n",
            "Dep. Variable:                      y   No. Observations:                   82\n",
            "Model:                          Logit   Df Residuals:                       77\n",
            "Method:                           MLE   Df Model:                            4\n",
            "Date:                Mon, 24 Mar 2025   Pseudo R-squ.:                  0.1499\n",
            "Time:                        12:16:14   Log-Likelihood:                -42.139\n",
            "converged:                       True   LL-Null:                       -49.572\n",
            "Covariance Type:            nonrobust   LLR p-value:                  0.004988\n",
            "==================================================================================\n",
            "                     coef    std err          z      P>|z|      [0.025      0.975]\n",
            "----------------------------------------------------------------------------------\n",
            "const             -1.7967      3.033     -0.592      0.554      -7.741       4.148\n",
            "transplant         2.8479      3.145      0.906      0.365      -3.316       9.012\n",
            "age                0.0870      0.174      0.500      0.617      -0.254       0.428\n",
            "age_squared       -0.0020      0.003     -0.778      0.436      -0.007       0.003\n",
            "age_transplant    -0.0319      0.075     -0.423      0.672      -0.180       0.116\n",
            "==================================================================================\n"
          ]
        },
        {
          "data": {
            "image/png": "[encoded data removed]",
            "text/plain": [
              "<Figure size 640x480 with 1 Axes>"
            ]
          },
          "metadata": {},
          "output_type": "display_data"
        }
      ],
      "source": [
        "from sklearn.model_selection import train_test_split\n",
        "import statsmodels.api as sm\n",
        "\n",
        "\n",
        "heart_data = pd.read_csv(\"data/heart_hw.csv\")\n",
        "heart_data['transplant'] = heart_data['transplant'].apply(lambda x: 1 if x == 'treatment' else 0)\n",
        "\n",
        "#adding quadratic age term\n",
        "heart_data['age_squared'] = heart_data['age'] ** 2\n",
        "\n",
        "#adding interaction\n",
        "heart_data['age_transplant'] = heart_data['age'] * heart_data['transplant']\n",
        "\n",
        "#define\n",
        "X = heart_data[['transplant', 'age', 'age_squared', 'age_transplant']]\n",
        "y = heart_data['y']\n",
        "\n",
        "#train test split (80% train, 20% test)\n",
        "X_train, X_test, y_train, y_test = (train_test_split(X, y, test_size=0.2, random_state=41))\n",
        "\n",
        "#fitting a logistic regression model\n",
        "X_train = sm.add_constant(X_train) #adds intercept\n",
        "logit_model = sm.Logit(y_train, X_train).fit()\n",
        "\n",
        "#summary\n",
        "print(logit_model.summary())\n",
        "\n",
        "#survival prob for range of ages\n",
        "ages = np.linspace(heart_data['age'].min(), heart_data['age'].max(), 100)\n",
        "\n",
        "plot_data = pd.DataFrame({\n",
        "    'const': 1,  #intercept\n",
        "    'transplant': np.tile([0, 1], len(ages)),  \n",
        "    'age': np.tile(ages, 2), #age range\n",
        "    'age_squared': np.tile(ages**2, 2),  #our quadtratic term\n",
        "    'age_transplant': np.concatenate([ages * 0, ages * 1])  #our interaction term\n",
        "})\n",
        "\n",
        "#predicting survival probs\n",
        "plot_data['predicted_survival'] = logit_model.predict(plot_data)\n",
        "\n",
        "#plotting\n",
        "plt.plot(ages, plot_data[plot_data['transplant'] == 0]['predicted_survival'], label='No Transplant', color='red')\n",
        "plt.plot(ages, plot_data[plot_data['transplant'] == 1]['predicted_survival'], label='Transplant', color='blue')\n",
        "\n",
        "plt.xlabel('Age')\n",
        "plt.ylabel('Predicted Survival Probability')\n",
        "plt.title('Predicted Survival Probability by Age (With and Without Transplant)')\n",
        "plt.legend()\n",
        "plt.show()\n"
      ]
    },
    {
      "cell_type": "markdown",
      "id": "0aaf01ef",
      "metadata": {},
      "source": [
        "The predicted survival probability is much higher on average with a transplant. Around the age of 35 however, both probabilities with and without the transplant are about 0.20 or less. "
      ]
    },
    {
      "cell_type": "markdown",
      "id": "e9f58c98",
      "metadata": {},
      "source": [
        "#### 4.5"
      ]
    },
    {
      "cell_type": "markdown",
      "id": "5aede0d3",
      "metadata": {},
      "source": [
        "My concerns about how it is build would be whether the training data contains biases in it. If it represents past biases, the model would reinforce those biases and lead to discrimination. Also, if age has a negative coefficient, older patients may be unfairly deprioritized. "
      ]
    },
    {
      "cell_type": "markdown",
      "id": "7bd15c6b-4c7c-4230-a199-e03e1054ec6a",
      "metadata": {
        "id": "7bd15c6b-4c7c-4230-a199-e03e1054ec6a"
      },
      "source": [
        "**Q5.** This is a question about linear regression. The outcome is whether a defendant is held pre-trial in the Virginia justice system. We would like to understand how that outcome is predicted by characteristics of the defendant, particularly race. Let's be very careful/clear: We aren't saying anyone *should* be held without bond or asserting that people with different demographic variables *should* be more likely to be held, but instead trying to predict whether people with different characteristics *are empirically more likely* to be held without bond, given the available information. This is the first step we would take in investigating whether a system is fair, or how large the disparities are: Does it treat people with similar observable characteristics similarly, or not? We are going to look at a common question: Are Black defendants treated differently from white or Asian ones? (There are Native American defendants, but there are 11 in total, which is such a small number of observations that is difficult to clearly say anything about how this group is treated relative to the others.)\n",
        "\n",
        "The variables in the data are:\n",
        "\n",
        "  - `held_wo_bail`: Whether a defendant is held without bail before trial (Boolean logical)\n",
        "  - `race`, `sex`: Categorical demographic variables\n",
        "  - `is_poor`: Whether the defendant is classified as indigent\n",
        "  - `prior_F`, `prior_M`: The number of prior felony and misdemeanor arrests\n",
        "  - `case_type`: A categorical variable indicating a misdemeanor `M` or felony `F` or infraction `I` or special case `S`\n",
        "  - `age`: Defendant's age\n",
        "  - `bond`, `bond_NA`, `bond_type`: The amount of any bond, whether it is missing, and the type\n",
        "  - `sentence`, `sentence_NA`, `sentence_type`: The length of any sentence, whether it is missing, and the type\n",
        "\n",
        "1. Load the `pretrial_data.csv` data. Notice that there are `nan`s, but the data are relatively clean. Because there are `.nan`s among variables you won't use, you'll want to narrow down your analysis to the relevant variables before dropping or imputing missing values.\n",
        "2. Create a dummy variable indicating that the defendant is Black.\n",
        "3. Regress `held` on `Black`. What is the slope coefficient Interpret the coefficient on the Black dummy variable: How much more likely is a black person to be held without bail? What is the $R^2$ of the model?\n",
        "4. Before doing this question, please think for a few minutes about how to make the process of running the following regressions as efficient as possible, before jumping into writing code. Repeat part 2, for the following specifications, keeping track of the coefficient on the Black dummy variable each time:\n",
        "      - `held` on `Black` and `sex`\n",
        "      - `held` on `Black` and `sex` and `is_poor`\n",
        "      - `held` on `Black` and `sex` and `is_poor` and `prior_F`\n",
        "      - `held` on `Black` and `sex` and `is_poor` and `prior_F` and `case_type`\n",
        "What happens to the coefficient on the Black dummy variable as you include more regressors/features/controls in the regression? Explain your findings.\n",
        "5. Suppose we don't want to see just `Black` and `sex`, but `Black` interacted with `sex`: Are Black men and Black women treated systemically differently from the rest of the population? Implement this in a regression, and explain your findings.\n",
        "6. Imagine someone argued we should use these kinds of models to help a judge or magistrate make bail decisions (you could obviously go back and make this kind of model for the bond and sentence variables, then deploy it on new cases to predict what their bond and sentence values would be). What concerns would you have? Do you think society should be using data-driven and automated tools like that? Explain your concerns clearly."
      ]
    },
    {
      "cell_type": "markdown",
      "id": "0f2222a4",
      "metadata": {},
      "source": [
        "#### 5.1"
      ]
    },
    {
      "cell_type": "code",
      "execution_count": 109,
      "id": "e3811c96",
      "metadata": {},
      "outputs": [
        {
          "data": {
            "text/html": [
              "<div>\n",
              "<style scoped>\n",
              "    .dataframe tbody tr th:only-of-type {\n",
              "        vertical-align: middle;\n",
              "    }\n",
              "\n",
              "    .dataframe tbody tr th {\n",
              "        vertical-align: top;\n",
              "    }\n",
              "\n",
              "    .dataframe thead th {\n",
              "        text-align: right;\n",
              "    }\n",
              "</style>\n",
              "<table border=\"1\" class=\"dataframe\">\n",
              "  <thead>\n",
              "    <tr style=\"text-align: right;\">\n",
              "      <th></th>\n",
              "      <th>race</th>\n",
              "      <th>is_poor</th>\n",
              "      <th>prior_F</th>\n",
              "      <th>case_type</th>\n",
              "      <th>held_wo_bail</th>\n",
              "      <th>sex</th>\n",
              "    </tr>\n",
              "  </thead>\n",
              "  <tbody>\n",
              "    <tr>\n",
              "      <th>0</th>\n",
              "      <td>W</td>\n",
              "      <td>NaN</td>\n",
              "      <td>0.0</td>\n",
              "      <td>F</td>\n",
              "      <td>False</td>\n",
              "      <td>M</td>\n",
              "    </tr>\n",
              "    <tr>\n",
              "      <th>1</th>\n",
              "      <td>B</td>\n",
              "      <td>NaN</td>\n",
              "      <td>13.0</td>\n",
              "      <td>F</td>\n",
              "      <td>False</td>\n",
              "      <td>M</td>\n",
              "    </tr>\n",
              "    <tr>\n",
              "      <th>2</th>\n",
              "      <td>W</td>\n",
              "      <td>NaN</td>\n",
              "      <td>0.0</td>\n",
              "      <td>M</td>\n",
              "      <td>False</td>\n",
              "      <td>M</td>\n",
              "    </tr>\n",
              "    <tr>\n",
              "      <th>3</th>\n",
              "      <td>B</td>\n",
              "      <td>0.0</td>\n",
              "      <td>0.0</td>\n",
              "      <td>M</td>\n",
              "      <td>False</td>\n",
              "      <td>M</td>\n",
              "    </tr>\n",
              "    <tr>\n",
              "      <th>4</th>\n",
              "      <td>W</td>\n",
              "      <td>0.0</td>\n",
              "      <td>0.0</td>\n",
              "      <td>F</td>\n",
              "      <td>False</td>\n",
              "      <td>F</td>\n",
              "    </tr>\n",
              "    <tr>\n",
              "      <th>...</th>\n",
              "      <td>...</td>\n",
              "      <td>...</td>\n",
              "      <td>...</td>\n",
              "      <td>...</td>\n",
              "      <td>...</td>\n",
              "      <td>...</td>\n",
              "    </tr>\n",
              "    <tr>\n",
              "      <th>22981</th>\n",
              "      <td>B</td>\n",
              "      <td>1.0</td>\n",
              "      <td>12.0</td>\n",
              "      <td>M</td>\n",
              "      <td>False</td>\n",
              "      <td>M</td>\n",
              "    </tr>\n",
              "    <tr>\n",
              "      <th>22982</th>\n",
              "      <td>W</td>\n",
              "      <td>NaN</td>\n",
              "      <td>NaN</td>\n",
              "      <td>M</td>\n",
              "      <td>False</td>\n",
              "      <td>F</td>\n",
              "    </tr>\n",
              "    <tr>\n",
              "      <th>22983</th>\n",
              "      <td>B</td>\n",
              "      <td>1.0</td>\n",
              "      <td>6.0</td>\n",
              "      <td>M</td>\n",
              "      <td>False</td>\n",
              "      <td>M</td>\n",
              "    </tr>\n",
              "    <tr>\n",
              "      <th>22984</th>\n",
              "      <td>B</td>\n",
              "      <td>0.0</td>\n",
              "      <td>1.0</td>\n",
              "      <td>M</td>\n",
              "      <td>False</td>\n",
              "      <td>F</td>\n",
              "    </tr>\n",
              "    <tr>\n",
              "      <th>22985</th>\n",
              "      <td>B</td>\n",
              "      <td>1.0</td>\n",
              "      <td>2.0</td>\n",
              "      <td>M</td>\n",
              "      <td>False</td>\n",
              "      <td>M</td>\n",
              "    </tr>\n",
              "  </tbody>\n",
              "</table>\n",
              "<p>22986 rows × 6 columns</p>\n",
              "</div>"
            ],
            "text/plain": [
              "      race  is_poor  prior_F case_type  held_wo_bail sex\n",
              "0        W      NaN      0.0         F         False   M\n",
              "1        B      NaN     13.0         F         False   M\n",
              "2        W      NaN      0.0         M         False   M\n",
              "3        B      0.0      0.0         M         False   M\n",
              "4        W      0.0      0.0         F         False   F\n",
              "...    ...      ...      ...       ...           ...  ..\n",
              "22981    B      1.0     12.0         M         False   M\n",
              "22982    W      NaN      NaN         M         False   F\n",
              "22983    B      1.0      6.0         M         False   M\n",
              "22984    B      0.0      1.0         M         False   F\n",
              "22985    B      1.0      2.0         M         False   M\n",
              "\n",
              "[22986 rows x 6 columns]"
            ]
          },
          "execution_count": 109,
          "metadata": {},
          "output_type": "execute_result"
        }
      ],
      "source": [
        "pretrial_data = pd.read_csv(\"data/pretrial_data.csv\")\n",
        "pretrial_data.head\n",
        "\n",
        "subset_pretrial_data = pretrial_data[['race','is_poor','prior_F','case_type', 'held_wo_bail','sex']]\n",
        "subset_pretrial_data"
      ]
    },
    {
      "cell_type": "markdown",
      "id": "a5b47549",
      "metadata": {},
      "source": [
        "#### 5.2"
      ]
    },
    {
      "cell_type": "code",
      "execution_count": 110,
      "id": "cb05bba9",
      "metadata": {},
      "outputs": [
        {
          "name": "stdout",
          "output_type": "stream",
          "text": [
            "0        0\n",
            "1        1\n",
            "2        0\n",
            "3        1\n",
            "4        0\n",
            "        ..\n",
            "22981    1\n",
            "22982    0\n",
            "22983    1\n",
            "22984    1\n",
            "22985    1\n",
            "Name: race_black, Length: 22986, dtype: int64\n"
          ]
        },
        {
          "name": "stderr",
          "output_type": "stream",
          "text": [
            "/tmp/ipykernel_3544/2296720173.py:1: SettingWithCopyWarning: \n",
            "A value is trying to be set on a copy of a slice from a DataFrame.\n",
            "Try using .loc[row_indexer,col_indexer] = value instead\n",
            "\n",
            "See the caveats in the documentation: https://pandas.pydata.org/pandas-docs/stable/user_guide/indexing.html#returning-a-view-versus-a-copy\n",
            "  subset_pretrial_data['race_black'] = (subset_pretrial_data['race']=='B').astype(int)\n"
          ]
        }
      ],
      "source": [
        "subset_pretrial_data['race_black'] = (subset_pretrial_data['race']=='B').astype(int)\n",
        "print(subset_pretrial_data['race_black'])"
      ]
    },
    {
      "cell_type": "markdown",
      "id": "06e0312a",
      "metadata": {},
      "source": [
        "#### 5.3"
      ]
    },
    {
      "cell_type": "code",
      "execution_count": 111,
      "id": "7bc034d7",
      "metadata": {},
      "outputs": [
        {
          "name": "stdout",
          "output_type": "stream",
          "text": [
            "                            OLS Regression Results                            \n",
            "==============================================================================\n",
            "Dep. Variable:           held_wo_bail   R-squared:                       0.007\n",
            "Model:                            OLS   Adj. R-squared:                  0.007\n",
            "Method:                 Least Squares   F-statistic:                     154.0\n",
            "Date:                Mon, 24 Mar 2025   Prob (F-statistic):           3.03e-35\n",
            "Time:                        13:00:01   Log-Likelihood:                -13567.\n",
            "No. Observations:               22986   AIC:                         2.714e+04\n",
            "Df Residuals:                   22984   BIC:                         2.715e+04\n",
            "Df Model:                           1                                         \n",
            "Covariance Type:            nonrobust                                         \n",
            "==============================================================================\n",
            "                 coef    std err          t      P>|t|      [0.025      0.975]\n",
            "------------------------------------------------------------------------------\n",
            "const          0.2295      0.004     61.493      0.000       0.222       0.237\n",
            "race_black     0.0728      0.006     12.409      0.000       0.061       0.084\n",
            "==============================================================================\n",
            "Omnibus:                     4842.763   Durbin-Watson:                   1.646\n",
            "Prob(Omnibus):                  0.000   Jarque-Bera (JB):             5127.594\n",
            "Skew:                           1.090   Prob(JB):                         0.00\n",
            "Kurtosis:                       2.223   Cond. No.                         2.45\n",
            "==============================================================================\n",
            "\n",
            "Notes:\n",
            "[1] Standard Errors assume that the covariance matrix of the errors is correctly specified.\n"
          ]
        }
      ],
      "source": [
        "#print(pretrial_data['race_black'])\n",
        "\n",
        "y=subset_pretrial_data['held_wo_bail']\n",
        "\n",
        "X=subset_pretrial_data['race_black']\n",
        "\n",
        "X=sm.add_constant(X) #adding intercept\n",
        "\n",
        "#running the regression (in this case OLS)\n",
        "model= sm.OLS(y,X).fit()\n",
        "print(model.summary())"
      ]
    },
    {
      "cell_type": "markdown",
      "id": "7907b6e6",
      "metadata": {},
      "source": [
        "The slope coefficient for race_black is 0.0728. This means that there is 7.28% higher chance that a black person is held without bail. The R^2 of the model is 0.007. This means that only 0.7% of the variation in whether someone is held without bail is explained by the model."
      ]
    },
    {
      "cell_type": "markdown",
      "id": "b7caf9ba",
      "metadata": {},
      "source": [
        "#### 5.4"
      ]
    },
    {
      "cell_type": "code",
      "execution_count": 152,
      "id": "a32cb568",
      "metadata": {},
      "outputs": [
        {
          "name": "stdout",
          "output_type": "stream",
          "text": [
            "                                      Variables  Coef (Black)       R^2\n",
            "0                                    race_black      0.068436  0.005819\n",
            "1                               race_black, sex      0.063120  0.016260\n",
            "2                      race_black, sex, is_poor      0.036318  0.059278\n",
            "3             race_black, sex, is_poor, prior_F      0.026586  0.100833\n",
            "4  race_black, sex, is_poor, prior_F, case_type      0.028455  0.196171\n"
          ]
        },
        {
          "name": "stderr",
          "output_type": "stream",
          "text": [
            "/tmp/ipykernel_3544/3052417446.py:2: SettingWithCopyWarning: \n",
            "A value is trying to be set on a copy of a slice from a DataFrame.\n",
            "Try using .loc[row_indexer,col_indexer] = value instead\n",
            "\n",
            "See the caveats in the documentation: https://pandas.pydata.org/pandas-docs/stable/user_guide/indexing.html#returning-a-view-versus-a-copy\n",
            "  subset_pretrial_data['race_black'] = (subset_pretrial_data['race']=='B').astype(int)\n",
            "/tmp/ipykernel_3544/3052417446.py:3: SettingWithCopyWarning: \n",
            "A value is trying to be set on a copy of a slice from a DataFrame.\n",
            "Try using .loc[row_indexer,col_indexer] = value instead\n",
            "\n",
            "See the caveats in the documentation: https://pandas.pydata.org/pandas-docs/stable/user_guide/indexing.html#returning-a-view-versus-a-copy\n",
            "  subset_pretrial_data['sex'] = subset_pretrial_data['sex'].astype('category').cat.codes\n",
            "/tmp/ipykernel_3544/3052417446.py:4: SettingWithCopyWarning: \n",
            "A value is trying to be set on a copy of a slice from a DataFrame.\n",
            "Try using .loc[row_indexer,col_indexer] = value instead\n",
            "\n",
            "See the caveats in the documentation: https://pandas.pydata.org/pandas-docs/stable/user_guide/indexing.html#returning-a-view-versus-a-copy\n",
            "  subset_pretrial_data['race'] = subset_pretrial_data['race'].astype('category').cat.codes\n",
            "/tmp/ipykernel_3544/3052417446.py:5: SettingWithCopyWarning: \n",
            "A value is trying to be set on a copy of a slice from a DataFrame.\n",
            "Try using .loc[row_indexer,col_indexer] = value instead\n",
            "\n",
            "See the caveats in the documentation: https://pandas.pydata.org/pandas-docs/stable/user_guide/indexing.html#returning-a-view-versus-a-copy\n",
            "  subset_pretrial_data['case_type'] = subset_pretrial_data['case_type'].astype('category').cat.codes\n"
          ]
        }
      ],
      "source": [
        "subset_pretrial_data = pretrial_data[['race','is_poor','prior_F','case_type', 'held_wo_bail','sex']]\n",
        "subset_pretrial_data['race_black'] = (subset_pretrial_data['race']=='B').astype(int)\n",
        "subset_pretrial_data['sex'] = subset_pretrial_data['sex'].astype('category').cat.codes\n",
        "subset_pretrial_data['race'] = subset_pretrial_data['race'].astype('category').cat.codes\n",
        "subset_pretrial_data['case_type'] = subset_pretrial_data['case_type'].astype('category').cat.codes\n",
        "subset_pretrial_data = subset_pretrial_data.dropna()\n",
        "\n",
        "\n",
        "\n",
        "#print(subset_pretrial_data.dtypes)\n",
        "\n",
        "case_type_dummies = [col for col in subset_pretrial_data.columns if col.startswith(\"case_type\")]\n",
        "\n",
        "y=subset_pretrial_data['held_wo_bail']\n",
        "y = np.asarray(y)\n",
        "\n",
        "\n",
        "set = [\n",
        "    ['race_black'],\n",
        "    ['race_black', 'sex'],\n",
        "    ['race_black', 'sex', 'is_poor'],\n",
        "    ['race_black', 'sex', 'is_poor', 'prior_F'],\n",
        "    ['race_black', 'sex', 'is_poor', 'prior_F'] +case_type_dummies\n",
        "]\n",
        "\n",
        "\n",
        "results = []\n",
        "\n",
        "for variables in set:\n",
        "    X=subset_pretrial_data[variables]\n",
        "    X = sm.add_constant(X, has_constant='add') #adding intercept\n",
        "\n",
        "\n",
        "    #running the regression (in this case OLS)\n",
        "\n",
        "    model= sm.OLS(y,X).fit()\n",
        "\n",
        "    #getting stats\n",
        "    coef_black = model.params.get('race_black', None)\n",
        "    r_squared = model.rsquared\n",
        "\n",
        "    #adding to results\n",
        "    results.append({\n",
        "        'Variables': ', '.join(variables),\n",
        "        'Coef (Black)': coef_black,\n",
        "        'R^2': r_squared\n",
        "    })\n",
        "\n",
        "results_df=pd.DataFrame(results)\n",
        "print(results_df)"
      ]
    },
    {
      "cell_type": "markdown",
      "id": "657db46d",
      "metadata": {},
      "source": [
        "As more variables are added, the coefficient for race_black decreases and the R^2 increases. The race coefficient suggests that the effect of race becomes less pronounced when accounting for other features and th2 R^2 suggests that the overall model gets better at explaining outcomes with more predictors."
      ]
    },
    {
      "cell_type": "markdown",
      "id": "f1432b18",
      "metadata": {},
      "source": [
        "#### 5.5"
      ]
    },
    {
      "cell_type": "markdown",
      "id": "03e52be4",
      "metadata": {},
      "source": [
        " Suppose we don't want to see just `Black` and `sex`, but `Black` interacted with `sex`: Are Black men and Black women treated systemically differently from the rest of the population? Implement this in a regression, and explain your findings."
      ]
    },
    {
      "cell_type": "code",
      "execution_count": 155,
      "id": "4643ef90",
      "metadata": {},
      "outputs": [
        {
          "name": "stdout",
          "output_type": "stream",
          "text": [
            "Coefficient: 0.05133252310900626,\n",
            "R squared: 0.011114555183757813\n"
          ]
        }
      ],
      "source": [
        "subset_pretrial_data['race_black_sex']= subset_pretrial_data['race_black']* subset_pretrial_data['sex']\n",
        "\n",
        "X = subset_pretrial_data['race_black_sex']\n",
        "X = sm.add_constant(X, has_constant='add')  # Add intercept\n",
        "\n",
        "model = sm.OLS(y, X).fit()\n",
        "coef_race_black_sex = model.params['race_black_sex']\n",
        "r_squared = model.rsquared\n",
        "\n",
        "print(f'Coefficient: {coef_race_black_sex},\\nR squared: {r_squared}')"
      ]
    },
    {
      "cell_type": "markdown",
      "id": "2197310d",
      "metadata": {},
      "source": [
        "The coefficient measures the effect of being black and a specific gender on the dependent variable of being held without bail. This suggest that the group is 5.1% more likelt to be held with no bail compared to others. The R^2 suggests that 1.1% of the variation in held without bail varianle is explained soley by the interaction term."
      ]
    },
    {
      "cell_type": "markdown",
      "id": "9bb4ca2f",
      "metadata": {},
      "source": [
        "#### 5.6"
      ]
    },
    {
      "cell_type": "markdown",
      "id": "66061ad4",
      "metadata": {},
      "source": [
        "Data-driven and automated tools like this regression model has the potential to enhance efficiency and consistency in decision-making, but there are significant concerns. These are high-stake decisions that need context. There could be bias if the models rely on biased or discriminatory data. This appraoch could use and reinforce systemic discrimination. There are also concerns about each case not being a \"standard\" case; in other words, every person's case is individual and complex human situations should not be simplified to patterns or strict probabilities."
      ]
    },
    {
      "cell_type": "markdown",
      "id": "ca1cfba3",
      "metadata": {
        "vscode": {
          "languageId": "plaintext"
        }
      },
      "source": [
        "\n",
        "**Q6.** Let's explore multiple linear regression in a two-variable case, to build more intuition about what is happening.\n",
        "\n",
        "Suppose the model is \n",
        "$$\n",
        "\\hat{y}_i = b_0 + b_1 z_{i1} + b_2 z_{i2}\n",
        "$$\n",
        "Assume that $z_{ij}$ is centered or de-meaned, so that $z_{ij} = x_{ij} - m_j$ where $m_j$ is the mean of variable $j$ and $x_{ij}$ is the original value of variable $j$ for observation $i$. Notice that this implies\n",
        "$$\n",
        "\\dfrac{1}{N} \\sum_{i=1}^N z_{ij} = 0\n",
        "$$\n",
        "which will simplify your calculations below substantially!\n",
        "\n",
        "1. Write down the SSE for this model.\n",
        "2. Take partial derivatives with respect to $b_0$, $b_1$, and $b_2$.\n",
        "3. Verify that the average error is zero and $e \\cdot z =0$ at the optimum, just as in the single linear regression case.\n",
        "4. Show that the optimal intercept is $b_0^* = \\bar{y}$. Eliminate $b_0^*$ from the remaining equations, and focus on $b_1$ and $b_2$.\n",
        "5. Write your results as a matrix equation in the form \"$Ab=C$\". These are called the **normal equations**.\n",
        "6. Divide both sides by $N$ and substitute $z_{ij} = x_{ij} - m_j$ back into your normal equations for $x_{ij}$. What is the matrix $A$? What is the vector $C$? Explain the intuition of your discovery."
      ]
    },
    {
      "cell_type": "markdown",
      "id": "547d5828",
      "metadata": {},
      "source": [
        "**Q7.** In class, we showed that for the single linear regression model,\n",
        "\\begin{alignat*}{3}\n",
        "a^* &=& \\bar{y} \\\\\n",
        "b^* &=& \\dfrac{\\sum_{i=1}^N(y_i - \\bar{y})(x_i-\\bar{x})}{\\sum_{i=1}^N (x_i-\\bar{x})^2},\n",
        "\\end{alignat*}\n",
        "\n",
        "1. When will $b^*$ be large or small, depending on the relationship between $X$ and $Y$ and the variance of $X$?\n",
        "2. Suppose you have measurement error in $X$ which artificially inflates its variance (e.g. bad data cleaning). We'll model this as saying the \"real\" value of $X$ for observation $i$ is $z_i$, but we observe $x_i = z_i + n_i$, where $n_i$ is the added noise. Does this affect the intercept of the regression? What happens to the $b^*$ coefficient relative to a noise-less model? How will affect your ability to predict? (This phenomenon is called **attenuation**.) \n",
        "3. Suppose the noise $n_i$ is independent of $z_i$ and $y_i$, so that (approximately)\n",
        "$$\n",
        "\\dfrac{1}{N} \\sum_{i=1}^N (y_i - \\bar{y})(n_i - \\bar{n}) =0, \\quad \\dfrac{1}{N} \\sum_{i=1}^N (z_i - \\bar{z})(n_i - \\bar{n}) =0.\n",
        "$$\n",
        "and that the mean of the bias is zero, so that\n",
        "$$\n",
        "\\dfrac{1}{N} \\sum_{i=1}^N n_i = 0.\n",
        "$$\n",
        "In this case, the noise $n_i$ is zero on average and independent of the values of $x_i$ and $y_i$: It's just measurement error or lazy data cleaning.\n",
        "Explain the intuition of your result. \n",
        "\n",
        "4. How does attenuation factor into the cost-benefit analysis of gathering higher quality data or cleaning it more carefully?"
      ]
    },
    {
      "cell_type": "markdown",
      "id": "b67478ac-ad78-4a44-9720-583c71b8da14",
      "metadata": {
        "id": "b67478ac-ad78-4a44-9720-583c71b8da14"
      },
      "source": [
        "**Q8.**\n",
        "1. Find a dataset on a topic you're interested in. Some easy options are data.gov, kaggle.com, and data.world.\n",
        "2. Clean the data and do some exploratory data analysis on key variables that interest you. Pick a particular target/outcome variable and features/predictors.\n",
        "3. Split the sample into an ~80% training set and a ~20% test set.\n",
        "4. Run a few regressions of your target/outcome variable on a variety of features/predictors. Compute the SSE on the test set.\n",
        "5. Which model performed the best, and why?\n",
        "6. What did you learn?"
      ]
    },
    {
      "cell_type": "markdown",
      "id": "fcf48562",
      "metadata": {},
      "source": [
        "**Q9.** There is a folder called `heart_failure` which contains reasonably detailed health data on patients and whether they die of congestive heart failure. \n",
        "\n",
        "1. Load the data and perform an 80/20-train/test split.\n",
        "2. Using dummy/one-hot-encoded variables and transformations of the numeric features, build the best model you can. **But**, do not delete code chunks or revise your work substantially as you experiment. Just keep moving forward with your ideas and experiments.\n",
        "3. When you're done, scroll through your notebook. What worked and what didn't? Does your code have intention, or are you randomly experimenting? If you had to do this again, what might you do differently to get to a good model faster?\n"
      ]
    },
    {
      "cell_type": "markdown",
      "id": "0125d03b",
      "metadata": {
        "vscode": {
          "languageId": "plaintext"
        }
      },
      "source": [
        "**Q10.** Let's look at a cousin of Linear Regression, called **kernel regression** or **local constant least squares** or **Nadaraya-Watson Estimator**.\n",
        "\n",
        "We derived the OLS estimator for single linear regression by minimizing\n",
        "$$\n",
        "SSE(b_0, b_1) = \\frac{1}{N}\\sum_{i=1}^N (y_i - b_0 - b_1 x_i)^2\n",
        "$$\n",
        "with solution\n",
        "$$\n",
        "\\hat{b}_0 = \\bar{y} - \\hat{b}_1 \\bar{x}, \\quad \\hat{b}_1 = \\dfrac{\\frac{1}{N} \\sum_{i=1}^N (x_i-\\bar{x})(y_i - \\bar{y})}{s_x^2}.\n",
        "$$\n",
        "\n",
        "When you step back and think about it, this is a bit weird: The algorithm is computing sample means, variances, and covariances, and using those to create a predictive model. The data themselves arguably vanish from the solution. This is elegant, this is strange.\n",
        "\n",
        "Instead, let $k(z)$ be a kernel function, such as the Gaussian\n",
        "$$\n",
        "k(z) = \\frac{1}{\\sqrt{2\\pi}} e^{-z^2/2}\n",
        "$$\n",
        "or uniform\n",
        "$$\n",
        "k(z) = \\begin{cases}\n",
        "1/2, & |z| \\le \\frac{1}{2}\\\\\n",
        "0, & \\text{otherwise.}\n",
        "\\end{cases}\n",
        "$$\n",
        "We'll instead minimize, or each predictor value $x$,\n",
        "$$\n",
        "SSE(\\hat{y}(x)) = \\dfrac{1}{N} \\sum_{i=1}^N \\left\\lbrace y_i - \\hat{y}(x)\\right\\rbrace^2 \\dfrac{1}{h} k \\left( \\dfrac{x-x_i}{h} \\right).\n",
        "$$\n",
        "\n",
        "1. Show that the optimal predictor is\n",
        "$$\n",
        "\\hat{y}(x) = \\dfrac{ \\frac{1}{Nh} \\sum_{i=1}^N  y_i k \\left( \\dfrac{x-x_i}{h} \\right) }{\\frac{1}{Nh} \\sum_{i=1}^N k \\left(  \\dfrac{x-x_i}{h} \\right)}\n",
        "$$\n",
        "This has many names, but let's call it the local constant least squares (LCLS) estimator, as opposed to ordinary least squares (OLS).\n",
        "\n",
        "2. Compare and contrast LCLS with both OLS and $k$-Nearest Neighbor as a regression algorithm. \n",
        "\n",
        "3. Write a function or class that implements the LCLS estimator for a single predictor variable $x$. For a default bandwidth $h$, you can use the maximum of the Silverman plug-ins for estimating kernel densities for $X$ and $Y$:\n",
        "$$\n",
        "h_y = 1.06 \\times s_y^{-1/5}, \\quad h_x = 1.06 \\times s_x^{-1/5},\n",
        "$$\n",
        "$$\n",
        "h = \\max \\{ h_y, h_x \\}.\n",
        "$$\n",
        "For the kernel, you can hard-code the uniform, Gaussian, or Epanechnikov, or make it a parameter the user can adjust with a default choice.\n",
        "\n",
        "4. For one of the datasets available for the homework, use your LCLS estimator from part 3 to predict values $\\hat{y}(x_i)$ for each datapoint $x_i$. Plot your estimator $\\hat{y}$ as a line over a scatterplot of the data $\\{(x_i,y_i)\\}_{i=1}^N$. Tune the bandwidth until you \n",
        "\n",
        "5. Conceptually, how would you extend this analysis to a vector of predictors, $x = (x_1, ..., x_L)$ instead of just one explanatory variable $x$?\n"
      ]
    }
  ],
  "metadata": {
    "colab": {
      "provenance": []
    },
    "kernelspec": {
      "display_name": "Python 3",
      "language": "python",
      "name": "python3"
    },
    "language_info": {
      "codemirror_mode": {
        "name": "ipython",
        "version": 3
      },
      "file_extension": ".py",
      "mimetype": "text/x-python",
      "name": "python",
      "nbconvert_exporter": "python",
      "pygments_lexer": "ipython3",
      "version": "3.10.12"
    }
  },
  "nbformat": 4,
  "nbformat_minor": 5
}
